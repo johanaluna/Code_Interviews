{
 "cells": [
  {
   "cell_type": "markdown",
   "metadata": {},
   "source": [
    "John works at a clothing store. He has a large pile of socks that he must pair by color for sale. Given an array of integers representing the color of each sock, determine how many pairs of socks with matching colors there are.\n",
    "\n",
    "For example, there are n=7 socks with colors ar = [1,2,1,2,1,3,2]. There is one pair of color  and one of color . There are three odd socks left, one of each color. The number of pairs is .\n",
    "\n",
    "### Function Description\n",
    "Complete the sockMerchant function in the editor below. It must return an integer representing the number of matching pairs of socks that are available.\n",
    "sockMerchant has the following parameter(s):\n",
    "- n: the number of socks in the pile\n",
    "- ar: the colors of each sock\n",
    "\n",
    "Sample input \n",
    "9\n",
    "10 20 20 10 10 30 50 10 20\n",
    "\n",
    "Sample output \n",
    "3"
   ]
  },
  {
   "cell_type": "code",
   "execution_count": 5,
   "metadata": {},
   "outputs": [
    {
     "name": "stdout",
     "output_type": "stream",
     "text": [
      "3\n"
     ]
    }
   ],
   "source": [
    "#!/bin/python3\n",
    "\n",
    "import math\n",
    "import os\n",
    "import random\n",
    "import re\n",
    "import sys\n",
    "\n",
    "# Complete the sockMerchant function below.\n",
    "def sockMerchant(n, ar):\n",
    "    dictar={}\n",
    "    for i in range(n):\n",
    "        if ar[i] not in dictar.keys():\n",
    "            dictar[ar[i]] = 1\n",
    "        else:\n",
    "            dictar[ar[i]] += 1\n",
    "    count=0\n",
    "    for a in dictar.values():\n",
    "        count = count + (a//2)\n",
    "    return count\n",
    "\n",
    "\n",
    "if __name__ == '__main__':\n",
    "\n",
    "    ar =[10, 20, 20, 10, 10, 30, 50, 10, 20]\n",
    "    n= len(ar)\n",
    "\n",
    "    result = sockMerchant(n, ar)\n",
    "\n",
    "    print(result)"
   ]
  },
  {
   "cell_type": "markdown",
   "metadata": {},
   "source": [
    "Gary is an avid hiker. He tracks his hikes meticulously, paying close attention to small details like topography. During his last hike he took exactly n steps. For every step he took, he noted if it was an uphill, U, or a downhill, D step. \n",
    "\n",
    "Gary's hikes start and end at sea level and each step up or down represents a 1 unit change in altitude. We define the following terms:\n",
    "\n",
    "- A mountain is a sequence of consecutive steps above sea level, starting with a step up from sea level and ending with a step down to sea level.\n",
    "\n",
    "- A valley is a sequence of consecutive steps below sea level, starting with a step down from sea level and ending with a step up to sea level.\n",
    "\n",
    "Given Gary's sequence of up and down steps during his last hike, find and print the number of valleys he walked through.\n",
    "\n",
    "For example, if Gary's path is s = [ DDUUUUDD ], he first enters a valley 2 units deep. Then he climbs out an up onto a mountain 2 units high. Finally, he returns to sea level and ends his hike.\n",
    "\n",
    "### Function Description\n",
    "Complete the countingValleys function in the editor below. It must return an integer that denotes the number of valleys Gary traversed.\n",
    "countingValleys has the following parameter(s):\n",
    "- n: the number of steps Gary takes\n",
    "- s: a string describing his path\n",
    "\n",
    "\n",
    "#### Sample Input \n",
    "8\n",
    "UDDDUDUU\n",
    "\n",
    "#### Sample Output\n",
    "1"
   ]
  },
  {
   "cell_type": "code",
   "execution_count": 6,
   "metadata": {},
   "outputs": [
    {
     "name": "stdout",
     "output_type": "stream",
     "text": [
      "1\n"
     ]
    }
   ],
   "source": [
    "#!/bin/python3\n",
    "\n",
    "import math\n",
    "import os\n",
    "import random\n",
    "import re\n",
    "import sys\n",
    "\n",
    "# Complete the countingValleys function below.\n",
    "def countingValleys(n, s):\n",
    "    level = 0\n",
    "    valley = 0\n",
    "    for i in s:\n",
    "        if i is \"U\":\n",
    "            level += 1\n",
    "        elif i is \"D\":\n",
    "            if level == 0:\n",
    "                valley += 1\n",
    "            level -= 1\n",
    "\n",
    "    return valley\n",
    "\n",
    "if __name__ == '__main__':\n",
    "\n",
    "    n = 8\n",
    "\n",
    "    s = \"UDDDUDUU\"\n",
    "\n",
    "    result = countingValleys(n, s)\n",
    "\n",
    "    print(result)\n"
   ]
  },
  {
   "cell_type": "markdown",
   "metadata": {},
   "source": [
    "# Repeated String\n",
    "\n",
    "Lilah has a string, s, of lowercase English letters that she repeated infinitely many times.\n",
    "\n",
    "Given an integer, n, find and print the number of letter a's in the first  letters of Lilah's infinite string.\n",
    "\n",
    "For example, if the string s='abcac' and n=10, the substring we consider is abcacabcac, the first 10 characters of her infinite string. There are 4 occurrences of a in the substring.\n",
    "\n",
    "### Function Description\n",
    "\n",
    "Complete the repeatedString function in the editor below. It should return an integer representing the number of occurrences of a in the prefix of length  in the infinitely repeating string.\n",
    "\n",
    "repeatedString has the following parameter(s):\n",
    "\n",
    "- s: a string to repeat\n",
    "- n: the number of characters to consider\n",
    "\n",
    "#### Sample Input 0\n",
    "aba\n",
    "10\n",
    "\n",
    "#### Sample Output 0\n",
    "7\n",
    "\n",
    "#### Sample Input 1\n",
    "a\n",
    "1000000000000\n",
    "\n",
    "#### Sample Output 1\n",
    "1000000000000\n"
   ]
  },
  {
   "cell_type": "code",
   "execution_count": 25,
   "metadata": {},
   "outputs": [
    {
     "name": "stdout",
     "output_type": "stream",
     "text": [
      "7\n"
     ]
    }
   ],
   "source": [
    "#!/bin/python3\n",
    "\n",
    "import math\n",
    "import os\n",
    "import random\n",
    "import re\n",
    "import sys\n",
    "\n",
    "# Complete the repeatedString function below.\n",
    "def repeatedString(s, n):\n",
    "\n",
    "    # new = s*n\n",
    "    count = 0\n",
    "    times_s_in_n= n//len(s)\n",
    "    def count_aes(s):\n",
    "        aes = 0\n",
    "        for i in s :\n",
    "            if i == 'a':\n",
    "                aes += 1\n",
    "        return aes\n",
    "    aes_in_s = count_aes(s)\n",
    "    if aes_in_s==len(s):\n",
    "        count = n\n",
    "    else:\n",
    "        x = n-(times_s_in_n * len(s))\n",
    "        \n",
    "        count = (times_s_in_n * aes_in_s) + count_aes(s[:x])\n",
    "        \n",
    "    return count\n",
    "    \n",
    "\n",
    "if __name__ == '__main__':\n",
    "\n",
    "#     s = 'aba'\n",
    "    s = 'aba'\n",
    "    n = 10\n",
    "\n",
    "    result = repeatedString(s, n)\n",
    "    \n",
    "    print(result)"
   ]
  },
  {
   "cell_type": "code",
   "execution_count": 26,
   "metadata": {},
   "outputs": [
    {
     "data": {
      "text/plain": [
       "3"
      ]
     },
     "execution_count": 26,
     "metadata": {},
     "output_type": "execute_result"
    }
   ],
   "source": [
    "s = 'aab'\n",
    "n = 10\n",
    "(n//len(s))"
   ]
  },
  {
   "cell_type": "code",
   "execution_count": 27,
   "metadata": {},
   "outputs": [
    {
     "data": {
      "text/plain": [
       "'a'"
      ]
     },
     "execution_count": 27,
     "metadata": {},
     "output_type": "execute_result"
    }
   ],
   "source": [
    "x = 10-((n//len(s))*len(s))\n",
    "s[:x]"
   ]
  },
  {
   "cell_type": "code",
   "execution_count": 22,
   "metadata": {},
   "outputs": [
    {
     "data": {
      "text/plain": [
       "1"
      ]
     },
     "execution_count": 22,
     "metadata": {},
     "output_type": "execute_result"
    }
   ],
   "source": [
    "x"
   ]
  },
  {
   "cell_type": "markdown",
   "metadata": {},
   "source": [
    "### Fibonacci"
   ]
  },
  {
   "cell_type": "code",
   "execution_count": 35,
   "metadata": {},
   "outputs": [],
   "source": [
    "#complexity O(2^n), O(n) space because we're storing all the n numbers \n",
    "def getNthFib(n):\n",
    "    # Write your code here.\n",
    "\tdictf = {}\n",
    "\tdictf[0] = 0\n",
    "\tdictf[1] = 1\n",
    "\t\n",
    "\tif n in dictf.keys():\n",
    "\t\treturn dictf[n]\n",
    "\telse:\n",
    "\t\treturn getNthFib(n-1) + getNthFib(n-2)"
   ]
  },
  {
   "cell_type": "code",
   "execution_count": 40,
   "metadata": {},
   "outputs": [
    {
     "data": {
      "text/plain": [
       "2"
      ]
     },
     "execution_count": 40,
     "metadata": {},
     "output_type": "execute_result"
    }
   ],
   "source": [
    "getNthFib(3)"
   ]
  },
  {
   "cell_type": "code",
   "execution_count": 44,
   "metadata": {},
   "outputs": [],
   "source": [
    "#complexity O(n), O(n) space because we're storing all the n numbers \n",
    "def getNthFib(n, dictn={1:1,2:1}):\n",
    "    if n in dictn:\n",
    "        return dictn[n]\n",
    "    else:\n",
    "        return getNthFib(n-1, dictn) + getNthFib(n-2, dictn)"
   ]
  },
  {
   "cell_type": "code",
   "execution_count": 46,
   "metadata": {},
   "outputs": [
    {
     "data": {
      "text/plain": [
       "144"
      ]
     },
     "execution_count": 46,
     "metadata": {},
     "output_type": "execute_result"
    }
   ],
   "source": [
    "getNthFib(12)"
   ]
  },
  {
   "cell_type": "code",
   "execution_count": 59,
   "metadata": {},
   "outputs": [],
   "source": [
    "#complexity O(n), O(1) space because we're storing just the last 2 numbers\n",
    "def getNthFib(n):\n",
    "    last_2n = [0, 1]\n",
    "    counter = 2 #because we start with 2 values and we want to find the 3rd\n",
    "    while counter <= n:\n",
    "        newfib = last_2n[0] + last_2n[1] \n",
    "        last_2n[0] = last_2n[1]\n",
    "        last_2n[1] = newfib\n",
    "        counter += 1\n",
    "    return last_2n[1] if n >1 else last_2n[0]\n",
    "        "
   ]
  },
  {
   "cell_type": "code",
   "execution_count": 60,
   "metadata": {},
   "outputs": [
    {
     "data": {
      "text/plain": [
       "144"
      ]
     },
     "execution_count": 60,
     "metadata": {},
     "output_type": "execute_result"
    }
   ],
   "source": [
    "getNthFib(12)"
   ]
  },
  {
   "cell_type": "markdown",
   "metadata": {},
   "source": [
    "### https://leetcode.com/problems/buddy-strings/\n",
    "#### Given two strings A and B of lowercase letters, return true if and only if we can swap two letters in A so that the result equals B.\n",
    "\n",
    "\n",
    "Input: A = \"ab\", B = \"ba\"\n",
    "\n",
    "- Output: true\n",
    "\n",
    "Input: A = \"ab\", B = \"ab\"\n",
    "\n",
    "- Output: false\n",
    "\n",
    "Input: A = \"aa\", B = \"aa\"\n",
    "\n",
    "- Output: true\n",
    "\n",
    "Input: A = \"aaaaaaabc\", B = \"aaaaaaacb\"\n",
    "- Output: true"
   ]
  },
  {
   "cell_type": "code",
   "execution_count": 13,
   "metadata": {},
   "outputs": [],
   "source": [
    "import itertools\n",
    "\n",
    "def buddyStrings(A, B):\n",
    "        if len(A) != len(B): \n",
    "            return False\n",
    "        if A == B:\n",
    "            seen = set()\n",
    "            for a in A:\n",
    "                if a in seen:\n",
    "                    return True\n",
    "                seen.add(a)\n",
    "            return False\n",
    "        else:\n",
    "            pairs = []\n",
    "            for a, b in zip(A, B):\n",
    "                if a != b:\n",
    "                    pairs.append((a, b))\n",
    "                if len(pairs) >= 3: return False\n",
    "            return len(pairs) == 2 and pairs[0] == pairs[1][::-1]\n",
    "                "
   ]
  },
  {
   "cell_type": "code",
   "execution_count": 20,
   "metadata": {},
   "outputs": [],
   "source": [
    "A = \"aabca\"\n",
    "B = \"abcaa\""
   ]
  },
  {
   "cell_type": "code",
   "execution_count": 21,
   "metadata": {},
   "outputs": [
    {
     "data": {
      "text/plain": [
       "False"
      ]
     },
     "execution_count": 21,
     "metadata": {},
     "output_type": "execute_result"
    }
   ],
   "source": [
    "buddyStrings(A, B)\n"
   ]
  },
  {
   "cell_type": "code",
   "execution_count": 1,
   "metadata": {},
   "outputs": [],
   "source": [
    "def removeDuplicates(nums):\n",
    "    if len(nums)<2:\n",
    "        return len(nums)\n",
    "    print(nums)\n",
    "    i = 1\n",
    "    while  i < len(nums):\n",
    "        print(\"len nums \",len(nums))\n",
    "        print(\"i\",i,\"\\n\")\n",
    "        if nums[i] != nums[i-1]:\n",
    "            i += 1\n",
    "            print(\"i+1\",i,\"\\n\")\n",
    "        else:\n",
    "            nums.pop(i)\n",
    "            print(\"pop\",nums,\"\\n\")\n",
    "            \n",
    "    return len(nums),nums"
   ]
  },
  {
   "cell_type": "code",
   "execution_count": 2,
   "metadata": {},
   "outputs": [],
   "source": [
    "nums = [0,0,1,1,1,2,2,3,3,4]"
   ]
  },
  {
   "cell_type": "code",
   "execution_count": 3,
   "metadata": {},
   "outputs": [
    {
     "output_type": "stream",
     "name": "stdout",
     "text": "[0, 0, 1, 1, 1, 2, 2, 3, 3, 4]\nlen nums  10\ni 1 \n\npop [0, 1, 1, 1, 2, 2, 3, 3, 4] \n\nlen nums  9\ni 1 \n\ni+1 2 \n\nlen nums  9\ni 2 \n\npop [0, 1, 1, 2, 2, 3, 3, 4] \n\nlen nums  8\ni 2 \n\npop [0, 1, 2, 2, 3, 3, 4] \n\nlen nums  7\ni 2 \n\ni+1 3 \n\nlen nums  7\ni 3 \n\npop [0, 1, 2, 3, 3, 4] \n\nlen nums  6\ni 3 \n\ni+1 4 \n\nlen nums  6\ni 4 \n\npop [0, 1, 2, 3, 4] \n\nlen nums  5\ni 4 \n\ni+1 5 \n\n"
    },
    {
     "output_type": "execute_result",
     "data": {
      "text/plain": "(5, [0, 1, 2, 3, 4])"
     },
     "metadata": {},
     "execution_count": 3
    }
   ],
   "source": [
    "removeDuplicates(nums)"
   ]
  },
  {
   "cell_type": "code",
   "execution_count": 1,
   "metadata": {},
   "outputs": [],
   "source": [
    "# given the number find 3 number that adding given x \n",
    "x=14\n",
    "arr= [2,4,1,6,12,4,7]\n",
    "\n",
    "14-2=12\n"
   ]
  },
  {
   "cell_type": "code",
   "execution_count": 15,
   "metadata": {},
   "outputs": [],
   "source": [
    "def find_sln(arr,x): \n",
    "    if len(arr)<3:\n",
    "        return False\n",
    "        \n",
    "    for i in range(len(arr)-1):\n",
    "        remainder = x - arr[i]\n",
    "        if sumExists(arr, remainder,i):\n",
    "            return arr[i],remainder\n",
    "\n",
    "def sumExists(arr, remainder,i):\n",
    "    for n in \n"
   ]
  },
  {
   "cell_type": "code",
   "execution_count": 16,
   "metadata": {},
   "outputs": [
    {
     "output_type": "execute_result",
     "data": {
      "text/plain": "(14, 10, 1, 9)"
     },
     "metadata": {},
     "execution_count": 16
    }
   ],
   "source": [
    "find_sln(arr,x)"
   ]
  },
  {
   "cell_type": "code",
   "execution_count": null,
   "metadata": {},
   "outputs": [],
   "source": [
    "\"\"\"\n",
    "There are 2 arrays \n",
    "\"\"\""
   ]
  }
 ],
 "metadata": {
  "kernelspec": {
   "display_name": "Python 3",
   "language": "python",
   "name": "python3"
  },
  "language_info": {
   "codemirror_mode": {
    "name": "ipython",
    "version": 3
   },
   "file_extension": ".py",
   "mimetype": "text/x-python",
   "name": "python",
   "nbconvert_exporter": "python",
   "pygments_lexer": "ipython3",
   "version": "3.7.7-final"
  }
 },
 "nbformat": 4,
 "nbformat_minor": 4
}