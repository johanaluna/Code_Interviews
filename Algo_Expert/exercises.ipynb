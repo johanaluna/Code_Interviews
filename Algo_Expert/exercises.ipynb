{
  "nbformat": 4,
  "nbformat_minor": 0,
  "metadata": {
    "colab": {
      "name": "exercises.ipynb",
      "provenance": [],
      "collapsed_sections": [],
      "authorship_tag": "ABX9TyNcK7/89RCAY2QyGU1EXxvP",
      "include_colab_link": true
    },
    "kernelspec": {
      "name": "python3",
      "display_name": "Python 3"
    }
  },
  "cells": [
    {
      "cell_type": "markdown",
      "metadata": {
        "id": "view-in-github",
        "colab_type": "text"
      },
      "source": [
        "<a href=\"https://colab.research.google.com/github/johanaluna/Code_Interviews/blob/master/Algo_Expert/exercises.ipynb\" target=\"_parent\"><img src=\"https://colab.research.google.com/assets/colab-badge.svg\" alt=\"Open In Colab\"/></a>"
      ]
    },
    {
      "cell_type": "code",
      "metadata": {
        "id": "HPKD0ttarr4E",
        "colab_type": "code",
        "colab": {}
      },
      "source": [
        "# Start 2:53pm \n",
        "#End 3:20pm\n",
        "\n",
        "# Two numbers sum \n",
        "arr = [3,5,-4,8,11,1,-1,6]\n",
        "# arr=[3]\n",
        "targetsum = 10"
      ],
      "execution_count": 0,
      "outputs": []
    },
    {
      "cell_type": "code",
      "metadata": {
        "id": "YvUp1H8xL94_",
        "colab_type": "code",
        "outputId": "a1e9ae31-db50-4d8a-d8ae-f3c543e0a0d4",
        "colab": {
          "base_uri": "https://localhost:8080/",
          "height": 34
        }
      },
      "source": [
        "def twoNumberSum(array, targetSum):\n",
        "    # Write your code here\n",
        "\n",
        "    # 1. check that array has at least 2 numbers (>1)\n",
        "    if len(array)<2 :\n",
        "        return []\n",
        "    i = 0\n",
        "    # 2. Go throught array \n",
        "    while i <len(array):\n",
        "        # 2.1 target - element # check that substraction is in array\n",
        "        if ((targetSum - array[i]) in array[0:i]) or ((targetSum - array[i]) in array[i+1:len(array)]):\n",
        "            return [array[i],targetSum - array[i]]\n",
        "        i+=1\n",
        "    return []\n",
        "\n",
        "twoNumberSum(arr, targetsum)"
      ],
      "execution_count": 0,
      "outputs": [
        {
          "output_type": "execute_result",
          "data": {
            "text/plain": [
              "[]"
            ]
          },
          "metadata": {
            "tags": []
          },
          "execution_count": 69
        }
      ]
    },
    {
      "cell_type": "code",
      "metadata": {
        "id": "OO9tne8kNM3t",
        "colab_type": "code",
        "colab": {}
      },
      "source": [
        "def findClosestValueInBst(tree, target):\n",
        "  current_node = tree\n",
        "  closest = float(99999999999)\n",
        "  while current_node is not None:\n",
        "    if abs(target - closest) > abs(target - current_node.value):\n",
        "      closest = current_node.value\n",
        "    elif target > current_node.value:\n",
        "      current_node = current_node.right\n",
        "    elif target < current_node.value:\n",
        "      current_node = current_node.left\n",
        "    else: break\n",
        "  return closest"
      ],
      "execution_count": 0,
      "outputs": []
    },
    {
      "cell_type": "code",
      "metadata": {
        "id": "PlC78fcyOFgz",
        "colab_type": "code",
        "colab": {}
      },
      "source": [
        "#Find brunch Sums\n",
        "def branchSums(root):\n",
        "    # Write your code here.\n",
        "\ttotalsums = [] # array that is gonna save all the \n",
        "\t\n",
        "\t# send to our function that calculate the sum the root, the initial sum  and the array that is gonna to track the sums \n",
        "\tcalculateBranchSum(root,0, totalsums)\n",
        "\treturn sums\n",
        "\n",
        "def calculateBranchSum(currentNode, currentSum, totalsums):\n",
        "\t#Base line: node is empty \n",
        "\tif currentNode is None:\n",
        "\t\treturn\n",
        "\t\n",
        "\t# add the vaue of current node to the current sum\n",
        "\tcurrentSum += currentNode.value\n",
        "\t\n",
        "\t# there are not more nodes in the leaf\n",
        "\tif currentNode.left is None and currentNode.right is None:\n",
        "\t\t\ttotalsums.append(currentSum)\n",
        "\t\t\treturn\n",
        "\t#If there are sons in the leaf calculate their sum\n",
        "\tcalculateBranchSum(currentNode.left, currentSum, totalsums)\n",
        "\tcalculateBranchSum(currentNode.right, currentSum, totalsums)"
      ],
      "execution_count": 0,
      "outputs": []
    },
    {
      "cell_type": "code",
      "metadata": {
        "id": "UdHWBXCYQX0f",
        "colab_type": "code",
        "colab": {}
      },
      "source": [
        "# DFS\n",
        "# Return array that print from lefht to right a graph\n",
        "# Do not edit the class below except\n",
        "# for the depthFirstSearch method.\n",
        "# Feel free to add new properties\n",
        "# and methods to the class.\n",
        "class Node:\n",
        "    def __init__(self, name):\n",
        "        self.children = []\n",
        "        self.name = name\n",
        "\n",
        "    def addChild(self, name):\n",
        "        self.children.append(Node(name))\n",
        "        return self\n",
        "        \n",
        "    def depthFirstSearch(self, array):\n",
        "        array.append(self.name)\n",
        "        for a in self.children:\n",
        "            a.depthFirstSearch(array)\n",
        "        return array"
      ],
      "execution_count": 0,
      "outputs": []
    },
    {
      "cell_type": "code",
      "metadata": {
        "id": "iD6nd5FtQhPn",
        "colab_type": "code",
        "colab": {}
      },
      "source": [
        "# Tip: You can use the type(element) function to check whether an item\n",
        "# is a list or an integer.\n",
        "# [x,y] is x+y. \n",
        "# [x,[y, z]] is x+2y+2z\n",
        "\n",
        "# Link : https://www.algoexpert.io/questions/Product%20Sum \n",
        "\n",
        "def productSum(array, mult=1):\n",
        "\t# initialize sum = 0 \n",
        "\t# multiplier variable = 1 \n",
        "\t# go through each element and \n",
        "\t# check if element is int \n",
        "\t\t# yes : add the value in array to the sum \n",
        "\t\t# no  : make a recusrion method send (sum= 0, array[i] , multiplier+1)\n",
        "\t\t\t# add result recursion to sum \n",
        "\t\t\t\n",
        "\tsuma = 0\n",
        "\tfor i in array:\n",
        "\t\t# print(type(i))\n",
        "\t\tif isinstance(i, int)== True:\n",
        "\t\t\tsuma += i\n",
        "\t\t\tprint(i,\":  \",suma)\n",
        "\t\telse: \n",
        "\t\t\tprint(\"enter array>>>>>>>>>>\")\n",
        "\t\t\t\n",
        "\t\t\tsuma += productSum(i,mult+1)\n",
        "\t\t\tprint(suma)\n",
        "\t\t\t\n",
        "\treturn suma * mult\n",
        "\n"
      ],
      "execution_count": 0,
      "outputs": []
    },
    {
      "cell_type": "code",
      "metadata": {
        "id": "_r8md5hoespz",
        "colab_type": "code",
        "colab": {}
      },
      "source": [
        "def findThreeLargestNumbers(array):\n",
        "    # Write your code here.\n",
        "\ti = 0\n",
        "\t# nitialize the array that is gonna contain the 3 largest numbers\n",
        "\tlargest = [None]*3\n",
        "\t\n",
        "\tif len(array)<3:\n",
        "\t\treturn None\n",
        "\t# complexity O(n)\n",
        "\t\n",
        "\twhile i < len(array):\n",
        "\t\tif largest[2] is None or  array[i] > largest[2]:\n",
        "\t\t\tlargest[0] = largest[1]\n",
        "\t\t\tlargest[1] = largest[2]\n",
        "\t\t\tlargest[2] = array[i]\n",
        "\t\telif largest[1] is None or  array[i] > largest[1]:\n",
        "\t\t\tlargest[0] = largest[1]\n",
        "\t\t\tlargest[1] = array[i]\n",
        "\t\t\t\n",
        "\t\telif largest[0] is None or  array[i] > largest[0]:\n",
        "\t\t\tlargest[0] = array[i]\n",
        "\t\t# check_largest(largest, number)\n",
        "\t\ti+=1\n",
        "\treturn largest"
      ],
      "execution_count": 0,
      "outputs": []
    },
    {
      "cell_type": "code",
      "metadata": {
        "id": "5O7Jl7jqev6z",
        "colab_type": "code",
        "outputId": "a7639d5a-e7de-4fe9-829c-32c0bbf4f017",
        "colab": {
          "base_uri": "https://localhost:8080/",
          "height": 34
        }
      },
      "source": [
        "array= [141, 1, 17, -7, -17, -27, 18, 541, 8, 7, 7]\n",
        "findThreeLargestNumbers(array)"
      ],
      "execution_count": 0,
      "outputs": [
        {
          "output_type": "execute_result",
          "data": {
            "text/plain": [
              "[18, 141, 541]"
            ]
          },
          "metadata": {
            "tags": []
          },
          "execution_count": 11
        }
      ]
    },
    {
      "cell_type": "code",
      "metadata": {
        "id": "VE2w0zIlfYko",
        "colab_type": "code",
        "colab": {}
      },
      "source": [
        "array= [141, 1, 17, -7, -17, -27, 18, 541, 8, 7, 7]"
      ],
      "execution_count": 0,
      "outputs": []
    },
    {
      "cell_type": "code",
      "metadata": {
        "id": "UXkFRzx9K2Ka",
        "colab_type": "code",
        "colab": {
          "base_uri": "https://localhost:8080/",
          "height": 34
        },
        "outputId": "0f97e2f0-1c21-4156-ae65-c632db60820f"
      },
      "source": [
        "array[0:0]"
      ],
      "execution_count": 14,
      "outputs": [
        {
          "output_type": "execute_result",
          "data": {
            "text/plain": [
              "[]"
            ]
          },
          "metadata": {
            "tags": []
          },
          "execution_count": 14
        }
      ]
    },
    {
      "cell_type": "code",
      "metadata": {
        "id": "_wZ53PJ8K4K4",
        "colab_type": "code",
        "colab": {}
      },
      "source": [
        "\n",
        "def twoSum(  nums, target):\n",
        "    i = 0\n",
        "    # j=1\n",
        "    dictio = {}\n",
        "    if len(nums)<2:\n",
        "        return\n",
        "    while  i < len( nums )-1:\n",
        "        for j in range(1, len( nums[ i+1: ] ) ):\n",
        "            if nums[ j ] == (target - nums[ i ]):\n",
        "                return([i,j])\n",
        "        i+=1"
      ],
      "execution_count": 0,
      "outputs": []
    },
    {
      "cell_type": "code",
      "metadata": {
        "id": "kvqP3IfV1ztI",
        "colab_type": "code",
        "colab": {}
      },
      "source": [
        "twoSum(  [3,3], 6)"
      ],
      "execution_count": 0,
      "outputs": []
    },
    {
      "cell_type": "code",
      "metadata": {
        "id": "r5EoVvac18au",
        "colab_type": "code",
        "colab": {
          "base_uri": "https://localhost:8080/",
          "height": 34
        },
        "outputId": "973c3c7f-90fe-40ba-d855-b097896acd8d"
      },
      "source": [
        "nums=[3,3]\n",
        "nums[ 1: ]"
      ],
      "execution_count": 5,
      "outputs": [
        {
          "output_type": "execute_result",
          "data": {
            "text/plain": [
              "[3]"
            ]
          },
          "metadata": {
            "tags": []
          },
          "execution_count": 5
        }
      ]
    },
    {
      "cell_type": "code",
      "metadata": {
        "id": "xX9fFLZf2Ao6",
        "colab_type": "code",
        "colab": {
          "base_uri": "https://localhost:8080/",
          "height": 34
        },
        "outputId": "e5b9a807-06e4-407a-9ccb-45cabc66c5fb"
      },
      "source": [
        "for j in range( len( nums[ 1: ] ) ):\n",
        "    print(j)"
      ],
      "execution_count": 9,
      "outputs": [
        {
          "output_type": "stream",
          "text": [
            "0\n"
          ],
          "name": "stdout"
        }
      ]
    },
    {
      "cell_type": "code",
      "metadata": {
        "id": "ba1cy-MD2V-B",
        "colab_type": "code",
        "colab": {}
      },
      "source": [
        "# Definition for singly-linked list.\n",
        "class ListNode:\n",
        "    def __init__(self, val=0, next=None):\n",
        "        self.val = val\n",
        "        self.next = next\n",
        "class Solution:\n",
        "    def addTwoNumbers(self, l1: ListNode, l2: ListNode) -> ListNode:\n",
        "        residue = 0\n",
        "        suma = l1\n",
        "        while 1:\n",
        "            l1.val = ( l1.val + l2.val + residue ) % 10\n",
        "            residue = ( l1.val + l2.val + residue ) // 10\n",
        "            \n",
        "            if residue == 0 and l1.next == None and l2.next == None:\n",
        "                break\n",
        "                \n",
        "            if l1.next == None:\n",
        "                l = ListNode(0)\n",
        "                l1.next = l\n",
        "                \n",
        "            if l2.next == None:\n",
        "                l = ListNode(0)\n",
        "                l2.next = l\n",
        "                \n",
        "            l1 = l1.next\n",
        "            l2 = l2.next\n",
        "            \n",
        "        return suma"
      ],
      "execution_count": 0,
      "outputs": []
    },
    {
      "cell_type": "code",
      "metadata": {
        "id": "tUB1-AWCiG3C",
        "colab_type": "code",
        "colab": {}
      },
      "source": [
        "# "
      ],
      "execution_count": 0,
      "outputs": []
    },
    {
      "cell_type": "code",
      "metadata": {
        "id": "pm0943yoiXKS",
        "colab_type": "code",
        "colab": {
          "base_uri": "https://localhost:8080/",
          "height": 34
        },
        "outputId": "a756c05a-92ca-4738-dcc9-4eda2dd45f5f"
      },
      "source": [
        "26//10\n"
      ],
      "execution_count": 33,
      "outputs": [
        {
          "output_type": "execute_result",
          "data": {
            "text/plain": [
              "2"
            ]
          },
          "metadata": {
            "tags": []
          },
          "execution_count": 33
        }
      ]
    },
    {
      "cell_type": "code",
      "metadata": {
        "id": "WhNrMgbiiYwP",
        "colab_type": "code",
        "colab": {}
      },
      "source": [
        "def spiralTraverse(array):\n",
        "    # Write your code here.\n",
        "    \n",
        "        \n",
        "\n",
        "\n",
        "    \n",
        "#     for k in range(len)\n",
        "def printSquare(array):\n",
        "    numRows = len(array)\n",
        "    numCols = len(array[0])\n",
        "    initRow = initCol = 0\n",
        "    sln = []\n",
        "    # for i in range(numRows*numCols):\n",
        "    # while len( sln ) < ( numRows * numCols )-1:\n",
        "    #     while i == 0:\n",
        "    #         sln.append( array[ j ][ i ] )\n",
        "    #         i += 1\n",
        "    #     i = numCols - 1\n",
        "    #     print(sln)\n",
        "\n",
        "    #     if len(sln) == numCols:\n",
        "    #         while j < numRows-1:\n",
        "    #             sln.append( array[ j+1 ][ i ] )\n",
        "    #             j+=1\n",
        "    #      temp = j   \n",
        "    #     if len(sln) == (numCols+j):\n",
        "    #         j = i = numCols - 1 \n",
        "    #         while i > 0:\n",
        "    #             sln.append( array[ j ][ i ] )\n",
        "    #             i -= 1\n",
        "    #     j = numRows -1\n",
        "    #     while i > 0:\n",
        "    #         sln.append( array[ j ][ i ] )\n",
        "    #         i -= 1\n",
        "    #     i = numCols - 1\n"
      ],
      "execution_count": 0,
      "outputs": []
    },
    {
      "cell_type": "code",
      "metadata": {
        "id": "IHPynSmvcEcO",
        "colab_type": "code",
        "colab": {}
      },
      "source": [
        "def spiralTraverse(array):\n",
        "    # Write your code here.\n",
        "    i = j= 0\n",
        "    if len(array) < 2:\n",
        "        return array\n",
        "    numRows = len( array ) - 1\n",
        "    numCols = len( array[ 0 ]) - 1\n",
        "    size = len(array) * len(array[0])\n",
        "    sln = []\n",
        "    print(\"num rows\",numRows, \" num cols\", numCols)\n",
        "    while i <= numRows and j <= numCols:\n",
        "        print(\"size : \",len(sln),size)\n",
        "        \n",
        "        for k in range(j,numCols + 1):\n",
        "            # if len( sln ) == size : break\n",
        "            sln.append( array[ i ][ k ] )\n",
        "        print(\"\\n one\",sln)\n",
        "        \n",
        "        for k in range( i + 1, numRows):\n",
        "            # if len( sln ) == size : break\n",
        "            sln.append( array[ k ][ numCols ] )\n",
        "        print(\"two\",sln)\n",
        "\n",
        "        for k in reversed(range(numCols+1)):\n",
        "            # print(\"here>>>>\", numCols, j-1)\n",
        "            if len( sln ) == size : break\n",
        "            sln.append( array[ numRows ][ k ] )\n",
        "        print(\"three\",sln)\n",
        "\n",
        "\n",
        "        for k in range(numRows-1,i,-1):\n",
        "            if len( sln ) == size : break\n",
        "            sln.append( array[ k ][ j ] )\n",
        "        \n",
        "        print(\"four\",sln)\n",
        "        # if len(sln) == size:\n",
        "        #         break\n",
        "        \n",
        "        \n",
        "        i += 1\n",
        "        numRows -= 1\n",
        "        j += 1\n",
        "        numCols -= 1\n",
        "\n",
        "    return (sln)"
      ],
      "execution_count": 0,
      "outputs": []
    },
    {
      "cell_type": "code",
      "metadata": {
        "id": "eb8LoWnlb58k",
        "colab_type": "code",
        "colab": {
          "base_uri": "https://localhost:8080/",
          "height": 170
        },
        "outputId": "f0daa899-4f57-4e02-ec80-d30e9b2279eb"
      },
      "source": [
        "array2 = [ [1, 2, 3, 4], [12, 13, 14, 5], [11, 16, 15, 6], [10, 9, 8, 7] ]\n",
        "# array = [1]\n",
        "# array = [[1, 2, 3], [8, 9, 4], [7, 6, 5]]\n",
        "array = [\n",
        "    [4, 2, 3, 6, 7, 8, 1, 9, 5, 10],\n",
        "    [12, 19, 15, 16, 20, 18, 13, 17, 11, 14]\n",
        "  ]\n",
        "print(len(array), len(array[0]))\n",
        "spiralTraverse(array)"
      ],
      "execution_count": 3,
      "outputs": [
        {
          "output_type": "stream",
          "text": [
            "2 10\n",
            "num rows 1  num cols 9\n",
            "size :  0 20\n",
            "\n",
            " one [4, 2, 3, 6, 7, 8, 1, 9, 5, 10]\n",
            "two [4, 2, 3, 6, 7, 8, 1, 9, 5, 10]\n",
            "three [4, 2, 3, 6, 7, 8, 1, 9, 5, 10, 14, 11, 17, 13, 18, 20, 16, 15, 19, 12]\n",
            "four [4, 2, 3, 6, 7, 8, 1, 9, 5, 10, 14, 11, 17, 13, 18, 20, 16, 15, 19, 12]\n"
          ],
          "name": "stdout"
        },
        {
          "output_type": "execute_result",
          "data": {
            "text/plain": [
              "[4, 2, 3, 6, 7, 8, 1, 9, 5, 10, 14, 11, 17, 13, 18, 20, 16, 15, 19, 12]"
            ]
          },
          "metadata": {
            "tags": []
          },
          "execution_count": 3
        }
      ]
    },
    {
      "cell_type": "code",
      "metadata": {
        "id": "i-wfhZJ4s3Bo",
        "colab_type": "code",
        "colab": {}
      },
      "source": [
        "# for k in range(9 + 1, 1-1, -1):\n",
        "#             print(\"here>>>>\", numCols, j-1)"
      ],
      "execution_count": 0,
      "outputs": []
    },
    {
      "cell_type": "code",
      "metadata": {
        "id": "PD_rQMWpCmJG",
        "colab_type": "code",
        "colab": {
          "base_uri": "https://localhost:8080/",
          "height": 51
        },
        "outputId": "489b547b-32ea-472d-adfc-1b29ef6c4951"
      },
      "source": [
        "for k in range(4-2,0,-1):\n",
        "    print(k)"
      ],
      "execution_count": 24,
      "outputs": [
        {
          "output_type": "stream",
          "text": [
            "2\n",
            "1\n"
          ],
          "name": "stdout"
        }
      ]
    },
    {
      "cell_type": "code",
      "metadata": {
        "id": "c349IQnrDT40",
        "colab_type": "code",
        "colab": {
          "base_uri": "https://localhost:8080/",
          "height": 666
        },
        "outputId": "dd67c413-fef3-4d73-ccb9-7a06cda63f0c"
      },
      "source": [
        "array3 =[\n",
        "    [27, 12, 35, 26],\n",
        "    [25, 21, 94, 11],\n",
        "    [19, 96, 43, 56],\n",
        "    [55, 36, 10, 18],\n",
        "    [96, 83, 31, 94],\n",
        "    [93, 11, 90, 16]\n",
        "  ]\n",
        "spiralTraverse(array3)"
      ],
      "execution_count": 4,
      "outputs": [
        {
          "output_type": "stream",
          "text": [
            "num rows 5  num cols 3\n",
            "size :  0 24\n",
            "\n",
            " one [27, 12, 35, 26]\n",
            "two [27, 12, 35, 26, 11, 56, 18, 94]\n",
            "three [27, 12, 35, 26, 11, 56, 18, 94, 16, 90, 11, 93]\n",
            "four [27, 12, 35, 26, 11, 56, 18, 94, 16, 90, 11, 93, 96, 55, 19, 25]\n",
            "size :  16 24\n",
            "\n",
            " one [27, 12, 35, 26, 11, 56, 18, 94, 16, 90, 11, 93, 96, 55, 19, 25, 21, 94]\n",
            "two [27, 12, 35, 26, 11, 56, 18, 94, 16, 90, 11, 93, 96, 55, 19, 25, 21, 94, 43, 10]\n",
            "three [27, 12, 35, 26, 11, 56, 18, 94, 16, 90, 11, 93, 96, 55, 19, 25, 21, 94, 43, 10, 31, 83, 96]\n",
            "four [27, 12, 35, 26, 11, 56, 18, 94, 16, 90, 11, 93, 96, 55, 19, 25, 21, 94, 43, 10, 31, 83, 96, 36]\n"
          ],
          "name": "stdout"
        },
        {
          "output_type": "execute_result",
          "data": {
            "text/plain": [
              "[27,\n",
              " 12,\n",
              " 35,\n",
              " 26,\n",
              " 11,\n",
              " 56,\n",
              " 18,\n",
              " 94,\n",
              " 16,\n",
              " 90,\n",
              " 11,\n",
              " 93,\n",
              " 96,\n",
              " 55,\n",
              " 19,\n",
              " 25,\n",
              " 21,\n",
              " 94,\n",
              " 43,\n",
              " 10,\n",
              " 31,\n",
              " 83,\n",
              " 96,\n",
              " 36]"
            ]
          },
          "metadata": {
            "tags": []
          },
          "execution_count": 4
        }
      ]
    },
    {
      "cell_type": "code",
      "metadata": {
        "id": "yo6lIwWWHrYv",
        "colab_type": "code",
        "colab": {
          "base_uri": "https://localhost:8080/",
          "height": 34
        },
        "outputId": "4d0bfcdf-8ee8-4f5c-f035-84c03f0368e4"
      },
      "source": [
        "# 4, 6 \n",
        "array = [1, 2, 3, 3, 4, 0, 10, 6, 5, -1, -3, 2, 3]\n",
        "len(array)"
      ],
      "execution_count": 5,
      "outputs": [
        {
          "output_type": "execute_result",
          "data": {
            "text/plain": [
              "13"
            ]
          },
          "metadata": {
            "tags": []
          },
          "execution_count": 5
        }
      ]
    },
    {
      "cell_type": "code",
      "metadata": {
        "id": "7YXIY1b1q5Q1",
        "colab_type": "code",
        "colab": {
          "base_uri": "https://localhost:8080/",
          "height": 34
        },
        "outputId": "d15f52cd-3cf3-4891-cae1-ba58ef606809"
      },
      "source": [
        "len(array[:6])"
      ],
      "execution_count": 10,
      "outputs": [
        {
          "output_type": "execute_result",
          "data": {
            "text/plain": [
              "6"
            ]
          },
          "metadata": {
            "tags": []
          },
          "execution_count": 10
        }
      ]
    },
    {
      "cell_type": "code",
      "metadata": {
        "id": "fe8mGasAq9st",
        "colab_type": "code",
        "colab": {
          "base_uri": "https://localhost:8080/",
          "height": 34
        },
        "outputId": "a31a26e6-6177-467d-9d3e-878aa9281491"
      },
      "source": [
        "len(array[7:])"
      ],
      "execution_count": 11,
      "outputs": [
        {
          "output_type": "execute_result",
          "data": {
            "text/plain": [
              "6"
            ]
          },
          "metadata": {
            "tags": []
          },
          "execution_count": 11
        }
      ]
    },
    {
      "cell_type": "code",
      "metadata": {
        "id": "mseeGWqkrBJM",
        "colab_type": "code",
        "colab": {}
      },
      "source": [
        ""
      ],
      "execution_count": 0,
      "outputs": []
    }
  ]
}