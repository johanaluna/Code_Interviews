{
  "nbformat": 4,
  "nbformat_minor": 0,
  "metadata": {
    "colab": {
      "name": "exercises.ipynb",
      "provenance": [],
      "collapsed_sections": [],
      "authorship_tag": "ABX9TyMDTpOEDPWieyLqCEbYnryy",
      "include_colab_link": true
    },
    "kernelspec": {
      "name": "python3",
      "display_name": "Python 3"
    }
  },
  "cells": [
    {
      "cell_type": "markdown",
      "metadata": {
        "id": "view-in-github",
        "colab_type": "text"
      },
      "source": [
        "<a href=\"https://colab.research.google.com/github/johanaluna/Code_Interviews/blob/master/Algo_Expert/exercises.ipynb\" target=\"_parent\"><img src=\"https://colab.research.google.com/assets/colab-badge.svg\" alt=\"Open In Colab\"/></a>"
      ]
    },
    {
      "cell_type": "code",
      "metadata": {
        "id": "HPKD0ttarr4E",
        "colab_type": "code",
        "colab": {}
      },
      "source": [
        "# Start 2:53pm \n",
        "#End 3:20pm\n",
        "\n",
        "# Two numbers sum \n",
        "arr = [3,5,-4,8,11,1,-1,6]\n",
        "# arr=[3]\n",
        "targetsum = 10"
      ],
      "execution_count": 0,
      "outputs": []
    },
    {
      "cell_type": "code",
      "metadata": {
        "id": "YvUp1H8xL94_",
        "colab_type": "code",
        "colab": {
          "base_uri": "https://localhost:8080/",
          "height": 34
        },
        "outputId": "a1e9ae31-db50-4d8a-d8ae-f3c543e0a0d4"
      },
      "source": [
        "def twoNumberSum(array, targetSum):\n",
        "    # Write your code here\n",
        "\n",
        "    # 1. check that array has at least 2 numbers (>1)\n",
        "    if len(array)<2 :\n",
        "        return []\n",
        "    i = 0\n",
        "    # 2. Go throught array \n",
        "    while i <len(array):\n",
        "        # 2.1 target - element # check that substraction is in array\n",
        "        if ((targetSum - array[i]) in array[0:i]) or ((targetSum - array[i]) in array[i+1:len(array)]):\n",
        "            return [array[i],targetSum - array[i]]\n",
        "        i+=1\n",
        "    return []\n",
        "\n",
        "twoNumberSum(arr, targetsum)"
      ],
      "execution_count": 69,
      "outputs": [
        {
          "output_type": "execute_result",
          "data": {
            "text/plain": [
              "[]"
            ]
          },
          "metadata": {
            "tags": []
          },
          "execution_count": 69
        }
      ]
    },
    {
      "cell_type": "code",
      "metadata": {
        "id": "OO9tne8kNM3t",
        "colab_type": "code",
        "colab": {}
      },
      "source": [
        "def findClosestValueInBst(tree, target):\n",
        "  current_node = tree\n",
        "  closest = float(99999999999)\n",
        "  while current_node is not None:\n",
        "    if abs(target - closest) > abs(target - current_node.value):\n",
        "      closest = current_node.value\n",
        "    elif target > current_node.value:\n",
        "      current_node = current_node.right\n",
        "    elif target < current_node.value:\n",
        "      current_node = current_node.left\n",
        "    else: break\n",
        "  return closest"
      ],
      "execution_count": 0,
      "outputs": []
    },
    {
      "cell_type": "code",
      "metadata": {
        "id": "PlC78fcyOFgz",
        "colab_type": "code",
        "colab": {}
      },
      "source": [
        "#Find brunch Sums\n",
        "def branchSums(root):\n",
        "    # Write your code here.\n",
        "\ttotalsums = [] # array that is gonna save all the \n",
        "\t\n",
        "\t# send to our function that calculate the sum the root, the initial sum  and the array that is gonna to track the sums \n",
        "\tcalculateBranchSum(root,0, totalsums)\n",
        "\treturn sums\n",
        "\n",
        "def calculateBranchSum(currentNode, currentSum, totalsums):\n",
        "\t#Base line: node is empty \n",
        "\tif currentNode is None:\n",
        "\t\treturn\n",
        "\t\n",
        "\t# add the vaue of current node to the current sum\n",
        "\tcurrentSum += currentNode.value\n",
        "\t\n",
        "\t# there are not more nodes in the leaf\n",
        "\tif currentNode.left is None and currentNode.right is None:\n",
        "\t\t\ttotalsums.append(currentSum)\n",
        "\t\t\treturn\n",
        "\t#If there are sons in the leaf calculate their sum\n",
        "\tcalculateBranchSum(currentNode.left, currentSum, totalsums)\n",
        "\tcalculateBranchSum(currentNode.right, currentSum, totalsums)"
      ],
      "execution_count": 0,
      "outputs": []
    },
    {
      "cell_type": "code",
      "metadata": {
        "id": "UdHWBXCYQX0f",
        "colab_type": "code",
        "colab": {}
      },
      "source": [
        "# DFS\n",
        "# Return array that print from lefht to right a graph\n",
        "# Do not edit the class below except\n",
        "# for the depthFirstSearch method.\n",
        "# Feel free to add new properties\n",
        "# and methods to the class.\n",
        "class Node:\n",
        "    def __init__(self, name):\n",
        "        self.children = []\n",
        "        self.name = name\n",
        "\n",
        "    def addChild(self, name):\n",
        "        self.children.append(Node(name))\n",
        "        return self\n",
        "        \n",
        "    def depthFirstSearch(self, array):\n",
        "        array.append(self.name)\n",
        "        for a in self.children:\n",
        "            a.depthFirstSearch(array)\n",
        "        return array"
      ],
      "execution_count": 0,
      "outputs": []
    },
    {
      "cell_type": "code",
      "metadata": {
        "id": "iD6nd5FtQhPn",
        "colab_type": "code",
        "colab": {}
      },
      "source": [
        "# Tip: You can use the type(element) function to check whether an item\n",
        "# is a list or an integer.\n",
        "# [x,y] is x+y. \n",
        "# [x,[y, z]] is x+2y+2z\n",
        "\n",
        "# Link : https://www.algoexpert.io/questions/Product%20Sum \n",
        "\n",
        "def productSum(array, mult=1):\n",
        "\t# initialize sum = 0 \n",
        "\t# multiplier variable = 1 \n",
        "\t# go through each element and \n",
        "\t# check if element is int \n",
        "\t\t# yes : add the value in array to the sum \n",
        "\t\t# no  : make a recusrion method send (sum= 0, array[i] , multiplier+1)\n",
        "\t\t\t# add result recursion to sum \n",
        "\t\t\t\n",
        "\tsuma = 0\n",
        "\tfor i in array:\n",
        "\t\t# print(type(i))\n",
        "\t\tif isinstance(i, int)== True:\n",
        "\t\t\tsuma += i\n",
        "\t\t\tprint(i,\":  \",suma)\n",
        "\t\telse: \n",
        "\t\t\tprint(\"enter array>>>>>>>>>>\")\n",
        "\t\t\t\n",
        "\t\t\tsuma += productSum(i,mult+1)\n",
        "\t\t\tprint(suma)\n",
        "\t\t\t\n",
        "\treturn suma * mult\n",
        "\n"
      ],
      "execution_count": 0,
      "outputs": []
    },
    {
      "cell_type": "code",
      "metadata": {
        "id": "_r8md5hoespz",
        "colab_type": "code",
        "colab": {}
      },
      "source": [
        "def findThreeLargestNumbers(array):\n",
        "    # Write your code here.\n",
        "\ti = 0\n",
        "\t# nitialize the array that is gonna contain the 3 largest numbers\n",
        "\tlargest = [None]*3\n",
        "\t\n",
        "\tif len(array)<3:\n",
        "\t\treturn None\n",
        "\t# complexity O(n)\n",
        "\t\n",
        "\twhile i < len(array):\n",
        "\t\tif largest[2] is None or  array[i] > largest[2]:\n",
        "\t\t\tlargest[0] = largest[1]\n",
        "\t\t\tlargest[1] = largest[2]\n",
        "\t\t\tlargest[2] = array[i]\n",
        "\t\telif largest[1] is None or  array[i] > largest[1]:\n",
        "\t\t\tlargest[0] = largest[1]\n",
        "\t\t\tlargest[1] = array[i]\n",
        "\t\t\t\n",
        "\t\telif largest[0] is None or  array[i] > largest[0]:\n",
        "\t\t\tlargest[0] = array[i]\n",
        "\t\t# check_largest(largest, number)\n",
        "\t\ti+=1\n",
        "\treturn largest"
      ],
      "execution_count": 0,
      "outputs": []
    },
    {
      "cell_type": "code",
      "metadata": {
        "id": "5O7Jl7jqev6z",
        "colab_type": "code",
        "colab": {
          "base_uri": "https://localhost:8080/",
          "height": 34
        },
        "outputId": "a7639d5a-e7de-4fe9-829c-32c0bbf4f017"
      },
      "source": [
        "array= [141, 1, 17, -7, -17, -27, 18, 541, 8, 7, 7]\n",
        "findThreeLargestNumbers(array)"
      ],
      "execution_count": 11,
      "outputs": [
        {
          "output_type": "execute_result",
          "data": {
            "text/plain": [
              "[18, 141, 541]"
            ]
          },
          "metadata": {
            "tags": []
          },
          "execution_count": 11
        }
      ]
    },
    {
      "cell_type": "code",
      "metadata": {
        "id": "VE2w0zIlfYko",
        "colab_type": "code",
        "colab": {}
      },
      "source": [
        ""
      ],
      "execution_count": 0,
      "outputs": []
    }
  ]
}